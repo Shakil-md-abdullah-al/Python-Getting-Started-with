{
  "nbformat": 4,
  "nbformat_minor": 0,
  "metadata": {
    "colab": {
      "provenance": []
    },
    "kernelspec": {
      "name": "python3",
      "display_name": "Python 3"
    },
    "language_info": {
      "name": "python"
    }
  },
  "cells": [
    {
      "cell_type": "markdown",
      "source": [
        "# Word Frequency with Dictionaries:\n",
        "Write a Python program that takes a sentence as input from the user and uses a dictionary to store the frequency of each word in the sentence. The keys in the dictionary should be the words, and the values should be the frequencies."
      ],
      "metadata": {
        "id": "bnoVkglSvy1z"
      }
    },
    {
      "cell_type": "code",
      "source": [
        "# Input sentence from user\n",
        "sentence = input(\"Enter a sentence: \")\n",
        "\n",
        "# Split the sentence into words\n",
        "words = sentence.split()\n",
        "\n",
        "# Create a dictionary to store word frequencies\n",
        "word_freq = {}\n",
        "\n",
        "# Calculate word frequencies\n",
        "for word in words:\n",
        "    if word in word_freq:\n",
        "        word_freq[word] += 1\n",
        "    else:\n",
        "        word_freq[word] = 1\n",
        "\n",
        "print(\"Word Frequencies:\", word_freq)"
      ],
      "metadata": {
        "colab": {
          "base_uri": "https://localhost:8080/"
        },
        "id": "QD-by7qdv2_0",
        "outputId": "cd446825-c024-418e-b269-b777c46a2f81"
      },
      "execution_count": 2,
      "outputs": [
        {
          "output_type": "stream",
          "name": "stdout",
          "text": [
            "Enter a sentence: As I make my way to complete the tasks awaiting me at work, I can't help but reflect on how much remains to be done before the day is over\n",
            "Word Frequencies: {'As': 1, 'I': 2, 'make': 1, 'my': 1, 'way': 1, 'to': 2, 'complete': 1, 'the': 2, 'tasks': 1, 'awaiting': 1, 'me': 1, 'at': 1, 'work,': 1, \"can't\": 1, 'help': 1, 'but': 1, 'reflect': 1, 'on': 1, 'how': 1, 'much': 1, 'remains': 1, 'be': 1, 'done': 1, 'before': 1, 'day': 1, 'is': 1, 'over': 1}\n"
          ]
        }
      ]
    }
  ]
}