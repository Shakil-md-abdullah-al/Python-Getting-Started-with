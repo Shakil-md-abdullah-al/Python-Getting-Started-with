{
  "nbformat": 4,
  "nbformat_minor": 0,
  "metadata": {
    "colab": {
      "provenance": []
    },
    "kernelspec": {
      "name": "python3",
      "display_name": "Python 3"
    },
    "language_info": {
      "name": "python"
    }
  },
  "cells": [
    {
      "cell_type": "code",
      "execution_count": null,
      "metadata": {
        "id": "KsdaRuLlo4LS"
      },
      "outputs": [],
      "source": []
    },
    {
      "cell_type": "markdown",
      "source": [
        "# Problem: List Comprehensions and Filters:\n",
        "\n",
        "Write a Python program that uses a list comprehension to generate a list of the squares of the numbers from 1 to 10. Then, use the filter function to keep only the odd numbers squares."
      ],
      "metadata": {
        "id": "WqgxNBNFqfo_"
      }
    },
    {
      "cell_type": "code",
      "source": [
        "squares = [x**2 for x in range(1, 11)]\n",
        "\n",
        "# Filter to keep only odd squares\n",
        "odd_squares = list(filter(lambda x: x % 2 != 0, squares))\n",
        "\n",
        "print(\"Squares of numbers from 1 to 10:\", squares)\n",
        "print(\"Odd squares:\", odd_squares)"
      ],
      "metadata": {
        "colab": {
          "base_uri": "https://localhost:8080/"
        },
        "id": "NcVBN0LBqSBE",
        "outputId": "55edad53-952c-4f17-bf94-5f3190d31ca8"
      },
      "execution_count": null,
      "outputs": [
        {
          "output_type": "stream",
          "name": "stdout",
          "text": [
            "Squares of numbers from 1 to 10: [1, 4, 9, 16, 25, 36, 49, 64, 81, 100]\n",
            "Odd squares: [1, 9, 25, 49, 81]\n"
          ]
        }
      ]
    }
  ]
}