{
  "nbformat": 4,
  "nbformat_minor": 0,
  "metadata": {
    "colab": {
      "provenance": []
    },
    "kernelspec": {
      "name": "python3",
      "display_name": "Python 3"
    },
    "language_info": {
      "name": "python"
    }
  },
  "cells": [
    {
      "cell_type": "markdown",
      "source": [
        "# Unique Elements with Sets:\n",
        "Write a Python program that takes a list of numbers as input from the user and uses a set to find and print the unique numbers in the list."
      ],
      "metadata": {
        "id": "zxFpY5alxIvD"
      }
    },
    {
      "cell_type": "code",
      "source": [
        "# Input list of numbers from user\n",
        "numbers = list(map(int, input(\"Enter numbers separated by space: \").split()))\n",
        "\n",
        "# Use a set to find unique numbers\n",
        "unique_numbers = set(numbers)\n",
        "\n",
        "print(\"Unique numbers:\", unique_numbers)"
      ],
      "metadata": {
        "colab": {
          "base_uri": "https://localhost:8080/"
        },
        "id": "oJcSAfWhxJTs",
        "outputId": "c0523a68-ba27-41bd-a54e-7023a58c3a1d"
      },
      "execution_count": 2,
      "outputs": [
        {
          "output_type": "stream",
          "name": "stdout",
          "text": [
            "Enter numbers separated by space: 1 101 2 10 9 1 101 201 9 7 5 6 1 34\n",
            "Unique numbers: {1, 2, 34, 101, 5, 7, 6, 9, 10, 201}\n"
          ]
        }
      ]
    }
  ]
}