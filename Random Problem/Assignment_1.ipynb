{
  "nbformat": 4,
  "nbformat_minor": 0,
  "metadata": {
    "colab": {
      "provenance": []
    },
    "kernelspec": {
      "name": "python3",
      "display_name": "Python 3"
    },
    "language_info": {
      "name": "python"
    }
  },
  "cells": [
    {
      "cell_type": "markdown",
      "source": [
        "# Chapter 2"
      ],
      "metadata": {
        "id": "QrhOhU99NA1U"
      }
    },
    {
      "cell_type": "markdown",
      "source": [
        "<pre> Given the following definitions\n",
        " var1 = 12\n",
        "var2 = 100\n",
        "var3 = -2\n",
        " var4 = 0\n",
        " What is printed by the following while loops?    \n",
        "a. while var1 < var2:\n",
        "  print (var1)\n",
        "  var1 = var1 + 30\n",
        " b. while var1 < var2:\n",
        "    print (var1)\n",
        "    var1 = var1 * 2\n",
        " c. while var1 > 0:\n",
        "      var4 = var4 + 1\n",
        "      var1 = var1 – 1\n",
        "  print (var1, var2)\n",
        " d. while var1 > 0:\n",
        "      var4 = var4 + 1\n",
        "     var1 = var1 – var4\n",
        "  print (var1, var2)\n",
        " 3. while var1 < var3:\n",
        "    print (\"*\", end=\"\")\n",
        "    var3 = var3 + 2\n",
        " f. while var2 > var1*var4:\n",
        "      var1 = var1 + 1\n",
        "      var4 = var4 + 1\n",
        "  print (var1, var2)</pre>"
      ],
      "metadata": {
        "id": "jJj92k-lNccF"
      }
    },
    {
      "cell_type": "code",
      "source": [
        "var1 = 12\n",
        "var2 = 100\n",
        "while var1 < var2:\n",
        "    print(var1)\n",
        "    var1 = var1 + 30\n"
      ],
      "metadata": {
        "colab": {
          "base_uri": "https://localhost:8080/"
        },
        "id": "naBq-Co5NG__",
        "outputId": "e5283983-b0ed-47fc-8494-9547bba96144"
      },
      "execution_count": 1,
      "outputs": [
        {
          "output_type": "stream",
          "name": "stdout",
          "text": [
            "12\n",
            "42\n",
            "72\n"
          ]
        }
      ]
    },
    {
      "cell_type": "code",
      "source": [
        "var1 = 12\n",
        "var2 = 100\n",
        "while var1 < var2:\n",
        "    print(var1)\n",
        "    var1 = var1 * 2\n"
      ],
      "metadata": {
        "colab": {
          "base_uri": "https://localhost:8080/"
        },
        "id": "_MmLVsiQNRZs",
        "outputId": "264869af-8bd9-48b9-aba9-edbb5c8bc581"
      },
      "execution_count": 4,
      "outputs": [
        {
          "output_type": "stream",
          "name": "stdout",
          "text": [
            "12\n",
            "24\n",
            "48\n",
            "96\n"
          ]
        }
      ]
    },
    {
      "cell_type": "code",
      "source": [
        "var1 = 12\n",
        "var4 = 0\n",
        "while var1 > 0:\n",
        "    var4 = var4 + 1\n",
        "    var1 = var1 - 1\n",
        "print(var1, var2)\n"
      ],
      "metadata": {
        "colab": {
          "base_uri": "https://localhost:8080/"
        },
        "id": "3tsks-rqNUK2",
        "outputId": "9dc3f501-b218-44ed-8c49-1514ca281a16"
      },
      "execution_count": 5,
      "outputs": [
        {
          "output_type": "stream",
          "name": "stdout",
          "text": [
            "0 100\n"
          ]
        }
      ]
    },
    {
      "cell_type": "code",
      "source": [
        "var1 = 12\n",
        "var4 = 0\n",
        "while var1 > 0:\n",
        "    var4 = var4 + 1\n",
        "    var1 = var1 - var4\n",
        "print(var1, var2)\n"
      ],
      "metadata": {
        "colab": {
          "base_uri": "https://localhost:8080/"
        },
        "id": "H0wpibMjNU7Y",
        "outputId": "d5198760-287b-46cb-d52f-e6e821209423"
      },
      "execution_count": 6,
      "outputs": [
        {
          "output_type": "stream",
          "name": "stdout",
          "text": [
            "-3 100\n"
          ]
        }
      ]
    },
    {
      "cell_type": "code",
      "source": [
        "var1 = 12\n",
        "var3 = -2\n",
        "while var1 < var3:\n",
        "    print(\"*\", end=\"\")\n",
        "    var3 = var3 + 2\n"
      ],
      "metadata": {
        "id": "Wv9V6pGENWsP"
      },
      "execution_count": 7,
      "outputs": []
    },
    {
      "cell_type": "code",
      "source": [
        "var1 = 12\n",
        "var4 = 0\n",
        "var2 = 100\n",
        "while var2 > var1 * var4:\n",
        "    var1 = var1 + 1\n",
        "    var4 = var4 + 1\n",
        "print(var1, var2)\n"
      ],
      "metadata": {
        "colab": {
          "base_uri": "https://localhost:8080/"
        },
        "id": "tzLeqnoLNZBn",
        "outputId": "2a691fb4-31aa-4582-eda7-ebefc26be35e"
      },
      "execution_count": 8,
      "outputs": [
        {
          "output_type": "stream",
          "name": "stdout",
          "text": [
            "18 100\n"
          ]
        }
      ]
    },
    {
      "cell_type": "markdown",
      "source": [
        "<pre>2. What is printed by the following for loops?\n",
        " a. for i in range (1, 10):\n",
        "      print (i)      \n",
        "b. for i in (1, 10):\n",
        "      print (i)      \n",
        "c. for i in (\"red\", \"green\", \"blue\"):\n",
        "      print (i)      \n",
        "d. for i in range(0, 10):\n",
        "\n",
        "       for j in range(1, 10):\n",
        "           if i == j:\n",
        "              print (i)                                  \n",
        "e. for i in range(0, 10):\n",
        "       for j in range(0, 50):\n",
        "           if i*i == j:\n",
        "             print (i)                              \n",
        "d. for i in (0, 10):\n",
        "    i = i * 2\n",
        "    print (i)\n",
        " e. for i in range (1, 10):\n",
        "    for j in range (1, i):\n",
        "        print (j, end=\"\")\n",
        "    print()\n",
        " f. for i in range(0, 10):\n",
        "    i = i + 1\n",
        "    for j in range (1, i):\n",
        "        print (j, end=\"\")\n",
        "\n",
        "        </pre>"
      ],
      "metadata": {
        "id": "aOQKXDfTNZwG"
      }
    },
    {
      "cell_type": "code",
      "source": [
        "for i in range(1, 10):\n",
        "    print(i)\n"
      ],
      "metadata": {
        "colab": {
          "base_uri": "https://localhost:8080/"
        },
        "id": "5KLa4cRPNtdU",
        "outputId": "b4e2946c-1914-474d-a873-896a75f0e54f"
      },
      "execution_count": 2,
      "outputs": [
        {
          "output_type": "stream",
          "name": "stdout",
          "text": [
            "1\n",
            "2\n",
            "3\n",
            "4\n",
            "5\n",
            "6\n",
            "7\n",
            "8\n",
            "9\n"
          ]
        }
      ]
    },
    {
      "cell_type": "code",
      "source": [
        "for i in (1, 10):\n",
        "    print(i)\n"
      ],
      "metadata": {
        "colab": {
          "base_uri": "https://localhost:8080/"
        },
        "id": "2qD632iRNvea",
        "outputId": "f848ae6f-0e2b-42a5-8e57-bb3616ff4d8e"
      },
      "execution_count": 3,
      "outputs": [
        {
          "output_type": "stream",
          "name": "stdout",
          "text": [
            "1\n",
            "10\n"
          ]
        }
      ]
    },
    {
      "cell_type": "code",
      "source": [
        "for i in (\"red\", \"green\", \"blue\"):\n",
        "    print(i)\n"
      ],
      "metadata": {
        "colab": {
          "base_uri": "https://localhost:8080/"
        },
        "id": "BlxhSnQ8NyDi",
        "outputId": "10fdafce-2e6f-45a2-bbe5-ff1ffbdae7e5"
      },
      "execution_count": 9,
      "outputs": [
        {
          "output_type": "stream",
          "name": "stdout",
          "text": [
            "red\n",
            "green\n",
            "blue\n"
          ]
        }
      ]
    },
    {
      "cell_type": "code",
      "source": [
        "for i in range(0, 10):\n",
        "    for j in range(1, 10):\n",
        "        if i == j:\n",
        "            print(i)\n"
      ],
      "metadata": {
        "colab": {
          "base_uri": "https://localhost:8080/"
        },
        "id": "Sc8Jb46dN5V_",
        "outputId": "346f5153-dd2e-4155-d46e-b6278868d5d2"
      },
      "execution_count": 10,
      "outputs": [
        {
          "output_type": "stream",
          "name": "stdout",
          "text": [
            "1\n",
            "2\n",
            "3\n",
            "4\n",
            "5\n",
            "6\n",
            "7\n",
            "8\n",
            "9\n"
          ]
        }
      ]
    },
    {
      "cell_type": "code",
      "source": [
        "for i in range(0, 10):\n",
        "    for j in range(0, 50):\n",
        "        if i * i == j:\n",
        "            print(i)\n"
      ],
      "metadata": {
        "colab": {
          "base_uri": "https://localhost:8080/"
        },
        "id": "EZ8pEzoaN9C_",
        "outputId": "4e35c452-c0dc-4290-9e6c-673c509f4bfa"
      },
      "execution_count": 11,
      "outputs": [
        {
          "output_type": "stream",
          "name": "stdout",
          "text": [
            "0\n",
            "1\n",
            "2\n",
            "3\n",
            "4\n",
            "5\n",
            "6\n",
            "7\n"
          ]
        }
      ]
    },
    {
      "cell_type": "code",
      "source": [
        "for i in (0, 10):\n",
        "    i = i * 2\n",
        "    print(i)\n"
      ],
      "metadata": {
        "colab": {
          "base_uri": "https://localhost:8080/"
        },
        "id": "5cfIgdigN_Ly",
        "outputId": "51eab84d-f59b-421b-85d0-d76cc072aa31"
      },
      "execution_count": 12,
      "outputs": [
        {
          "output_type": "stream",
          "name": "stdout",
          "text": [
            "0\n",
            "20\n"
          ]
        }
      ]
    },
    {
      "cell_type": "code",
      "source": [
        "for i in range(1, 10):\n",
        "    for j in range(1, i):\n",
        "        print(j, end=\"\")\n",
        "    print()\n"
      ],
      "metadata": {
        "colab": {
          "base_uri": "https://localhost:8080/"
        },
        "id": "Fw8E675VOBFD",
        "outputId": "47f6a378-30c5-4191-be1a-eb56f9e3d268"
      },
      "execution_count": 13,
      "outputs": [
        {
          "output_type": "stream",
          "name": "stdout",
          "text": [
            "\n",
            "1\n",
            "12\n",
            "123\n",
            "1234\n",
            "12345\n",
            "123456\n",
            "1234567\n",
            "12345678\n"
          ]
        }
      ]
    },
    {
      "cell_type": "code",
      "source": [
        "for i in range(0, 10):\n",
        "    i = i + 1\n",
        "    for j in range(1, i):\n",
        "        print(j, end=\"\")\n"
      ],
      "metadata": {
        "colab": {
          "base_uri": "https://localhost:8080/"
        },
        "id": "iawsZTKLODvx",
        "outputId": "a350afe3-5a16-4bd5-993b-3d4a20f01e42"
      },
      "execution_count": 14,
      "outputs": [
        {
          "output_type": "stream",
          "name": "stdout",
          "text": [
            "112123123412345123456123456712345678123456789"
          ]
        }
      ]
    },
    {
      "cell_type": "markdown",
      "source": [
        "3. The Greek mathematician Zeno (c. 450 BCE) is credited with creating the\n",
        "paradox of the Tortoise and Achilles. A tortoise challenged the great hero and\n",
        "athlete Achilles to a footrace. All the tortoise asked was a ten-yard head start.\n",
        "The idea was that once the race began, Achilles could run the ten-yard head\n",
        "start in a small time; however, in that same time, the tortoise would move\n",
        "forward a small amount, perhaps a yard. When Achilles made up that yard,\n",
        "the tortoise would have moved ahead again a small distance; and so on. The\n",
        "logic was that Achilles could never catch up. The misunderstanding here is\n",
        "that an infinitely long series of numbers can add up to a finite value. Write a\n",
        "small Python program that sums the numbers ½, ¼, 1/8\n",
        " , 1/16\n",
        " , and so on for 20\n",
        "iterations and suggest what the sum would be if it were carried to an infinite\n",
        "number of iterations."
      ],
      "metadata": {
        "id": "AtEzN_oaOG5I"
      }
    },
    {
      "cell_type": "code",
      "source": [
        "# Initialize variables\n",
        "iterations = 20\n",
        "sum_series = 0\n",
        "term = 1 / 2\n",
        "\n",
        "# Loop for 20 iterations\n",
        "for _ in range(iterations):\n",
        "    sum_series += term\n",
        "    term /= 2  # Next term is half of the current term\n",
        "\n",
        "# Output the result for 20 iterations\n",
        "print(f\"Sum of the series for 20 iterations: {sum_series}\")\n",
        "\n",
        "# Sum of the infinite series\n",
        "infinite_sum = 1 / (1 - 1/2)\n",
        "print(f\"Sum of the infinite series: {infinite_sum}\")\n"
      ],
      "metadata": {
        "colab": {
          "base_uri": "https://localhost:8080/"
        },
        "id": "0uNQK20VOHr5",
        "outputId": "51e06166-206b-4c48-85bb-549e31eea1e4"
      },
      "execution_count": 15,
      "outputs": [
        {
          "output_type": "stream",
          "name": "stdout",
          "text": [
            "Sum of the series for 20 iterations: 0.9999990463256836\n",
            "Sum of the infinite series: 2.0\n"
          ]
        }
      ]
    },
    {
      "cell_type": "markdown",
      "source": [
        "4. One way to calculate the square root of a number is to use Newton’s method.\n",
        "This starts with an initial guess: if the square root of x is being computed,\n",
        "then a fair initial guess g would be x/2. Successive estimates are given by the\n",
        "expression:\n",
        " newg = (g + x/g)/2\n",
        "\n",
        " Successive estimates are nearer to the actual square root. Write a program\n",
        "to computer the square root of a number that is entered from the keyboard."
      ],
      "metadata": {
        "id": "X6FXDHBQOZk8"
      }
    },
    {
      "cell_type": "code",
      "source": [
        "def newton_sqrt(x, tolerance=1e-10, max_iterations=1000):\n",
        "    # Initial guess\n",
        "    g = x / 2.0\n",
        "    iterations = 0\n",
        "\n",
        "    while iterations < max_iterations:\n",
        "        # Calculate new guess\n",
        "        newg = (g + x / g) / 2.0\n",
        "        # Check for convergence\n",
        "        if abs(newg - g) < tolerance:\n",
        "            return newg\n",
        "        # Update guess and iteration count\n",
        "        g = newg\n",
        "        iterations += 1\n",
        "\n",
        "    # If we exit the loop without converging, return the last guess\n",
        "    return g\n",
        "\n",
        "def main():\n",
        "    # Read input from the user\n",
        "    try:\n",
        "        x = float(input(\"Enter a number to compute its square root: \"))\n",
        "        if x < 0:\n",
        "            raise ValueError(\"Cannot compute the square root of a negative number.\")\n",
        "\n",
        "        # Compute square root using Newton's method\n",
        "        sqrt_x = newton_sqrt(x)\n",
        "        print(f\"The square root of {x} is approximately {sqrt_x}\")\n",
        "    except ValueError as e:\n",
        "        print(e)\n",
        "\n",
        "if __name__ == \"__main__\":\n",
        "    main()\n"
      ],
      "metadata": {
        "colab": {
          "base_uri": "https://localhost:8080/"
        },
        "id": "TxPp2nl1Og_i",
        "outputId": "fd74c342-220d-46f2-d75b-dd7d529cb874"
      },
      "execution_count": 16,
      "outputs": [
        {
          "output_type": "stream",
          "name": "stdout",
          "text": [
            "Enter a number to compute its square root: 10\n",
            "The square root of 10.0 is approximately 3.162277660168379\n"
          ]
        }
      ]
    },
    {
      "cell_type": "markdown",
      "source": [
        "<pre>5. Complete the program that draws a histogram for the earnings of WidgetCorp\n",
        "for four quarters of 2016. Earnings are as follows:\n",
        " a. 190000\n",
        " b. 340000\n",
        " c. 873000\n",
        " d. 439833</pre>"
      ],
      "metadata": {
        "id": "JEz0UJPsOj5U"
      }
    },
    {
      "cell_type": "code",
      "source": [
        "pip install matplotlib"
      ],
      "metadata": {
        "colab": {
          "base_uri": "https://localhost:8080/"
        },
        "id": "IM9gB9TnOyLW",
        "outputId": "a52dc86f-5fe8-4465-b197-c2db4c53dee2"
      },
      "execution_count": 18,
      "outputs": [
        {
          "output_type": "stream",
          "name": "stdout",
          "text": [
            "Requirement already satisfied: matplotlib in /usr/local/lib/python3.10/dist-packages (3.7.1)\n",
            "Requirement already satisfied: contourpy>=1.0.1 in /usr/local/lib/python3.10/dist-packages (from matplotlib) (1.3.0)\n",
            "Requirement already satisfied: cycler>=0.10 in /usr/local/lib/python3.10/dist-packages (from matplotlib) (0.12.1)\n",
            "Requirement already satisfied: fonttools>=4.22.0 in /usr/local/lib/python3.10/dist-packages (from matplotlib) (4.53.1)\n",
            "Requirement already satisfied: kiwisolver>=1.0.1 in /usr/local/lib/python3.10/dist-packages (from matplotlib) (1.4.5)\n",
            "Requirement already satisfied: numpy>=1.20 in /usr/local/lib/python3.10/dist-packages (from matplotlib) (1.26.4)\n",
            "Requirement already satisfied: packaging>=20.0 in /usr/local/lib/python3.10/dist-packages (from matplotlib) (24.1)\n",
            "Requirement already satisfied: pillow>=6.2.0 in /usr/local/lib/python3.10/dist-packages (from matplotlib) (9.4.0)\n",
            "Requirement already satisfied: pyparsing>=2.3.1 in /usr/local/lib/python3.10/dist-packages (from matplotlib) (3.1.4)\n",
            "Requirement already satisfied: python-dateutil>=2.7 in /usr/local/lib/python3.10/dist-packages (from matplotlib) (2.8.2)\n",
            "Requirement already satisfied: six>=1.5 in /usr/local/lib/python3.10/dist-packages (from python-dateutil>=2.7->matplotlib) (1.16.0)\n"
          ]
        }
      ]
    },
    {
      "cell_type": "code",
      "source": [
        "\n",
        "import matplotlib.pyplot as plt\n",
        "\n",
        "# Earnings for the four quarters of 2016\n",
        "earnings = [190000, 340000, 873000, 439833]\n",
        "quarters = ['Q1', 'Q2', 'Q3', 'Q4']\n",
        "\n",
        "# Create the histogram\n",
        "plt.bar(quarters, earnings, color='blue')\n",
        "\n",
        "# Add labels and title\n",
        "plt.xlabel('Quarter')\n",
        "plt.ylabel('Earnings ($)')\n",
        "plt.title('WidgetCorp Earnings for 2016')\n",
        "\n",
        "# Display the histogram\n",
        "plt.show()\n"
      ],
      "metadata": {
        "colab": {
          "base_uri": "https://localhost:8080/",
          "height": 472
        },
        "id": "57phditeOpex",
        "outputId": "f8d23901-9fb2-4a3f-b041-18f9c78c2e26"
      },
      "execution_count": 19,
      "outputs": [
        {
          "output_type": "display_data",
          "data": {
            "text/plain": [
              "<Figure size 640x480 with 1 Axes>"
            ],
            "image/png": "[encoded data removed]"
          },
          "metadata": {}
        }
      ]
    },
    {
      "cell_type": "markdown",
      "source": [
        "<pre> 6. Modify the program in Exercise 5 above so that the data for the four quarters\n",
        "is read from the terminal (i.e., entered by the user from the keyboard). Test it\n",
        "for the following values:\n",
        " a. 900000\n",
        " b. 874000\n",
        " c. 200000\n",
        " d. 43900</pre>"
      ],
      "metadata": {
        "id": "a-QbyaHMOwQE"
      }
    },
    {
      "cell_type": "code",
      "source": [
        "import matplotlib.pyplot as plt\n",
        "\n",
        "def get_earnings():\n",
        "    earnings = []\n",
        "    for i in range(1, 5):\n",
        "        while True:\n",
        "            try:\n",
        "                # Read earnings for each quarter\n",
        "                earning = float(input(f\"Enter earnings for Q{i}: \"))\n",
        "                if earning < 0:\n",
        "                    print(\"Earnings must be a non-negative number. Please try again.\")\n",
        "                else:\n",
        "                    earnings.append(earning)\n",
        "                    break\n",
        "            except ValueError:\n",
        "                print(\"Invalid input. Please enter a numeric value.\")\n",
        "    return earnings\n",
        "\n",
        "def main():\n",
        "    # Get earnings data from the user\n",
        "    earnings = get_earnings()\n",
        "    quarters = ['Q1', 'Q2', 'Q3', 'Q4']\n",
        "\n",
        "    # Create the histogram\n",
        "    plt.bar(quarters, earnings, color='blue')\n",
        "\n",
        "    # Add labels and title\n",
        "    plt.xlabel('Quarter')\n",
        "    plt.ylabel('Earnings ($)')\n",
        "    plt.title('WidgetCorp Earnings for 2016')\n",
        "\n",
        "    # Display the histogram\n",
        "    plt.show()\n",
        "\n",
        "if __name__ == \"__main__\":\n",
        "    main()\n"
      ],
      "metadata": {
        "colab": {
          "base_uri": "https://localhost:8080/",
          "height": 545
        },
        "id": "nWt_UhF0O8kZ",
        "outputId": "e2325c8b-7f10-4ac3-eea7-90b4e631dd51"
      },
      "execution_count": 20,
      "outputs": [
        {
          "name": "stdout",
          "output_type": "stream",
          "text": [
            "Enter earnings for Q1: 12\n",
            "Enter earnings for Q2: 3\n",
            "Enter earnings for Q3: 4\n",
            "Enter earnings for Q4: 15\n"
          ]
        },
        {
          "output_type": "display_data",
          "data": {
            "text/plain": [
              "<Figure size 640x480 with 1 Axes>"
            ],
            "image/png": "[encoded data removed]"
          },
          "metadata": {}
        }
      ]
    },
    {
      "cell_type": "markdown",
      "source": [
        "7.  Modify the solution to Exercise 6 in Chapter 1 (making change) so that it\n",
        "makes effective use of a for loop.  The program should still read a number\n",
        "between 1 and 99, which is an amount of change to be given, and print the\n",
        "coin values that would be used. Modify it to not use a half-dollar coin, because\n",
        "nobody has those anymore."
      ],
      "metadata": {
        "id": "PoGKJyxeO-V8"
      }
    },
    {
      "cell_type": "code",
      "source": [
        "def make_change(amount):\n",
        "    # Define the coin values in cents\n",
        "    coins = [25, 10, 5, 1]\n",
        "    coin_names = ['quarters', 'dimes', 'nickels', 'pennies']\n",
        "\n",
        "    # Initialize results\n",
        "    results = []\n",
        "\n",
        "    # Calculate the number of each coin needed\n",
        "    for coin_value, coin_name in zip(coins, coin_names):\n",
        "        num_coins = amount // coin_value\n",
        "        if num_coins > 0:\n",
        "            results.append(f\"{num_coins} {coin_name}\")\n",
        "            amount %= coin_value\n",
        "\n",
        "    return results\n",
        "\n",
        "def main():\n",
        "    # Read amount from the user\n",
        "    while True:\n",
        "        try:\n",
        "            amount = int(input(\"Enter an amount between 1 and 99 cents: \"))\n",
        "            if 1 <= amount <= 99:\n",
        "                break\n",
        "            else:\n",
        "                print(\"Amount must be between 1 and 99 cents. Please try again.\")\n",
        "        except ValueError:\n",
        "            print(\"Invalid input. Please enter a numeric value.\")\n",
        "\n",
        "    # Calculate and display the change\n",
        "    change = make_change(amount)\n",
        "    print(\"The change is:\")\n",
        "    for line in change:\n",
        "        print(line)\n",
        "\n",
        "if __name__ == \"__main__\":\n",
        "    main()\n"
      ],
      "metadata": {
        "colab": {
          "base_uri": "https://localhost:8080/"
        },
        "id": "pYyhsmb-PG36",
        "outputId": "63c9491a-b569-49ab-cec3-1de1484c4c53"
      },
      "execution_count": 21,
      "outputs": [
        {
          "output_type": "stream",
          "name": "stdout",
          "text": [
            "Enter an amount between 1 and 99 cents: 3\n",
            "The change is:\n",
            "3 pennies\n"
          ]
        }
      ]
    },
    {
      "cell_type": "markdown",
      "source": [
        "<pre>8.  Convert the following for loops into the equivalent while loop:\n",
        " a. for i in range (1, 10):\n",
        "     print (i, i*i)\n",
        " b. sum = 0\n",
        "  for i in (range (10, 0, -1):\n",
        "      sum = sum + i\n",
        "      print (i, sum)</pre>"
      ],
      "metadata": {
        "id": "mCt7BtlXPJT3"
      }
    },
    {
      "cell_type": "code",
      "source": [
        "#a\n",
        "for i in range(1, 10):\n",
        "    print(i, i*i)\n"
      ],
      "metadata": {
        "colab": {
          "base_uri": "https://localhost:8080/"
        },
        "id": "N1bywl52PQhv",
        "outputId": "dfe17bdb-a6b2-4107-d596-43ab27b2ba8c"
      },
      "execution_count": 22,
      "outputs": [
        {
          "output_type": "stream",
          "name": "stdout",
          "text": [
            "1 1\n",
            "2 4\n",
            "3 9\n",
            "4 16\n",
            "5 25\n",
            "6 36\n",
            "7 49\n",
            "8 64\n",
            "9 81\n"
          ]
        }
      ]
    },
    {
      "cell_type": "code",
      "source": [
        "#b\n",
        "sum = 0\n",
        "for i in range(10, 0, -1):\n",
        "    sum = sum + i\n",
        "    print(i, sum)\n"
      ],
      "metadata": {
        "colab": {
          "base_uri": "https://localhost:8080/"
        },
        "id": "zfepSMLlPZME",
        "outputId": "915b68ba-e36d-4d5a-fc71-5ecc82b9d8c8"
      },
      "execution_count": 23,
      "outputs": [
        {
          "output_type": "stream",
          "name": "stdout",
          "text": [
            "10 10\n",
            "9 19\n",
            "8 27\n",
            "7 34\n",
            "6 40\n",
            "5 45\n",
            "4 49\n",
            "3 52\n",
            "2 54\n",
            "1 55\n"
          ]
        }
      ]
    },
    {
      "cell_type": "markdown",
      "source": [
        "9. A good solution to Exercise 4 above (square root) would detect negative\n",
        "numbers and print a message to the effect that square roots of negative\n",
        "numbers do not exist (not as real numbers, anyway). Modify the solution to\n",
        "Exercise 4 to use an exception to deal with that situation, and handle other\n",
        "potential errors."
      ],
      "metadata": {
        "id": "33R5JMO4Pe_H"
      }
    },
    {
      "cell_type": "code",
      "source": [
        "import matplotlib.pyplot as plt\n",
        "\n",
        "def newton_sqrt(x, tolerance=1e-10, max_iterations=1000):\n",
        "    if x < 0:\n",
        "        raise ValueError(\"Cannot compute the square root of a negative number.\")\n",
        "\n",
        "    # Initial guess\n",
        "    g = x / 2.0\n",
        "    iterations = 0\n",
        "\n",
        "    while iterations < max_iterations:\n",
        "        # Calculate new guess\n",
        "        newg = (g + x / g) / 2.0\n",
        "        # Check for convergence\n",
        "        if abs(newg - g) < tolerance:\n",
        "            return newg\n",
        "        # Update guess and iteration count\n",
        "        g = newg\n",
        "        iterations += 1\n",
        "\n",
        "    # If we exit the loop without converging, return the last guess\n",
        "    return g\n",
        "\n",
        "def main():\n",
        "    while True:\n",
        "        try:\n",
        "            # Read amount from the user\n",
        "            x = float(input(\"Enter a number to compute its square root: \"))\n",
        "            if x < 0:\n",
        "                raise ValueError(\"Cannot compute the square root of a negative number.\")\n",
        "\n",
        "            # Compute square root using Newton's method\n",
        "            sqrt_x = newton_sqrt(x)\n",
        "            print(f\"The square root of {x} is approximately {sqrt_x:.10f}\")\n",
        "            break  # Exit loop after successful computation\n",
        "        except ValueError as e:\n",
        "            print(f\"Error: {e}. Please try again with a valid number.\")\n",
        "        except Exception as e:\n",
        "            print(f\"An unexpected error occurred: {e}. Please try again.\")\n",
        "\n",
        "if __name__ == \"__main__\":\n",
        "    main()\n"
      ],
      "metadata": {
        "colab": {
          "base_uri": "https://localhost:8080/"
        },
        "id": "gbC6OqNTPf36",
        "outputId": "2d6a78fd-1d57-4d61-9b18-c50453c4e5fb"
      },
      "execution_count": 24,
      "outputs": [
        {
          "output_type": "stream",
          "name": "stdout",
          "text": [
            "Enter a number to compute its square root: 123\n",
            "The square root of 123.0 is approximately 11.0905365064\n"
          ]
        }
      ]
    },
    {
      "cell_type": "markdown",
      "source": [
        "# Chapter 3"
      ],
      "metadata": {
        "id": "ET0TDclBPhIJ"
      }
    },
    {
      "cell_type": "markdown",
      "source": [
        "<pre>str1 = \"okra is the closest thing to nylon i've ever eaten.\"\n",
        " str2 = \"pull the string, and it will follow wherever you\n",
        "        wish.\"\n",
        " str3 = \"let out a little more string on your kite.\"\n",
        " str4 = \"every string is a different color, a different\n",
        "        voice.\"\n",
        " vowels = 'aeiou'\n",
        " atoms=(\"Hydrogen\",1,\"Helium\",2,\"Lithium\",3,\"Boron\",5,\n",
        "       \"Carbon\",6, \"Oxygen\",8)\n",
        " 1. What is printed by the following code snippets?    \n",
        "a. for i in r a n g e(0,le n(str3)):\n",
        "     print (str3[i], end=’’)\n",
        " b. for for i in ra nge(0,len(str3)):\n",
        "      print (i, end=’’)\n",
        " c. for i in r a n g e(0,le n(str3)):\n",
        "     print (str2[i], end=’’)\n",
        " d. for i in str3:\n",
        "     print (i, end=’’)\n",
        " e. for i in str3:\n",
        " if i in vowels:\n",
        "        print(i, end=’’)\n",
        "   f. for i in str1:\n",
        " if not(i in vowels):\n",
        "        print(i, end=’’)\n",
        "        </pre>"
      ],
      "metadata": {
        "id": "T5KUHqaYPi-E"
      }
    },
    {
      "cell_type": "code",
      "source": [
        "for i in range(0, len(str3)):\n",
        "    print(str3[i], end='')\n"
      ],
      "metadata": {
        "id": "cfsswBPbQGaq"
      },
      "execution_count": null,
      "outputs": []
    },
    {
      "cell_type": "code",
      "source": [
        "for i in range(0, len(str3)):\n",
        "    print(i, end='')\n"
      ],
      "metadata": {
        "id": "NRx3U-iXQA8I"
      },
      "execution_count": null,
      "outputs": []
    },
    {
      "cell_type": "code",
      "source": [
        "for i in range(0, len(str3)):\n",
        "    print(str2[i], end='')\n"
      ],
      "metadata": {
        "id": "vDhhGpFpQI_J"
      },
      "execution_count": null,
      "outputs": []
    },
    {
      "cell_type": "code",
      "source": [
        "for i in str3:\n",
        "    print(i, end='')\n"
      ],
      "metadata": {
        "id": "8D2J0YA_QKJ9"
      },
      "execution_count": null,
      "outputs": []
    },
    {
      "cell_type": "code",
      "source": [
        "for i in str3:\n",
        "    if i in vowels:\n",
        "        print(i, end='')\n"
      ],
      "metadata": {
        "id": "nSciKzHwQLsu"
      },
      "execution_count": null,
      "outputs": []
    },
    {
      "cell_type": "code",
      "source": [
        "for i in str1:\n",
        "    if not (i in vowels):\n",
        "        print(i, end='')\n"
      ],
      "metadata": {
        "id": "dLFQpo7BQM-i"
      },
      "execution_count": null,
      "outputs": []
    },
    {
      "cell_type": "markdown",
      "source": [
        " 2. Construct a loop that prints out all characters of str4 that correspond to a\n",
        "vowel in str3. Note: the two strings are different lengths"
      ],
      "metadata": {
        "id": "UFNtWmSeQN_-"
      }
    },
    {
      "cell_type": "code",
      "source": [
        "str1 = \"okra is the closest thing to nylon i've ever eaten.\"\n",
        "str2 = \"pull the string, and it will follow wherever you wish.\"\n",
        "str3 = \"let out a little more string on your kite.\"\n",
        "str4 = \"every string is a different color, a different voice.\"\n",
        "vowels = 'aeiou'\n",
        "\n",
        "# Create a set of vowels present in str3\n",
        "vowels_in_str3 = set(c for c in str3 if c in vowels)\n",
        "\n",
        "# Print characters from str4 that are vowels and are in str3\n",
        "for char in str4:\n",
        "    if char in vowels_in_str3:\n",
        "        print(char, end='')\n"
      ],
      "metadata": {
        "colab": {
          "base_uri": "https://localhost:8080/"
        },
        "id": "sOLumhDkQYwz",
        "outputId": "229693c9-70c4-4610-9419-34ca6fe2d9b2"
      },
      "execution_count": 26,
      "outputs": [
        {
          "output_type": "stream",
          "name": "stdout",
          "text": [
            "eeiiaieeooaieeoie"
          ]
        }
      ]
    },
    {
      "cell_type": "markdown",
      "source": [
        "3. A Caesar cypher is a way to transmit a secret message. When encoding a\n",
        "message, each character is replaced by one that is a fixed distance further\n",
        "along the alphabet. If that distance is 6, for example, the letter “a” would be\n",
        "replaced by “g,” which is 6 positions further along. The characters at the end\n",
        "wrap around to the beginning, so “z” is “f.” Write some Python code that\n",
        "encodes str1 in this way. Ensure that it works by decrypting the following\n",
        "string:\n",
        " “varr znk yzxotm, gtj oz corr lurruc cnkxkbkx eua coyn.”\n",
        " Ans: uqxg oy znk iruykyz znotm zu terut o’bk kbkx kgzkt."
      ],
      "metadata": {
        "id": "5PbOa6DMQeFA"
      }
    },
    {
      "cell_type": "code",
      "source": [
        "def caesar_cipher(text, shift):\n",
        "    result = []\n",
        "\n",
        "    for char in text:\n",
        "        if char.isalpha():  # Check if the character is a letter\n",
        "            # Shift within the alphabet (wrap around using modulo 26)\n",
        "            shift_amount = shift if char.islower() else shift\n",
        "            base = ord('a') if char.islower() else ord('A')\n",
        "            new_char = chr((ord(char) - base + shift_amount) % 26 + base)\n",
        "            result.append(new_char)\n",
        "        else:\n",
        "            # Non-letter characters are added unchanged\n",
        "            result.append(char)\n",
        "\n",
        "    return ''.join(result)\n",
        "\n",
        "# Define the shift amount and input string\n",
        "shift_amount = 6\n",
        "str1 = \"varr znk yzxotm, gtj oz corr lurruc cnkxkbkx eua coyn.\"\n",
        "\n",
        "# Encode the string\n",
        "encoded_str = caesar_cipher(str1, shift_amount)\n",
        "print(f\"Encoded: {encoded_str}\")\n",
        "\n",
        "# Decode the string to verify\n",
        "decoded_str = caesar_cipher(encoded_str, -shift_amount)\n",
        "print(f\"Decoded: {decoded_str}\")\n"
      ],
      "metadata": {
        "colab": {
          "base_uri": "https://localhost:8080/"
        },
        "id": "gfc9N5ccQdOu",
        "outputId": "398db312-fb44-4d6c-d15e-2ddb9b7854eb"
      },
      "execution_count": 27,
      "outputs": [
        {
          "output_type": "stream",
          "name": "stdout",
          "text": [
            "Encoded: bgxx ftq efduzs, mzp uf iuxx raxxai itqdqhqd kag iuet.\n",
            "Decoded: varr znk yzxotm, gtj oz corr lurruc cnkxkbkx eua coyn.\n"
          ]
        }
      ]
    },
    {
      "cell_type": "markdown",
      "source": [
        "4. Write a Python snippet that creates two tuples from the single tuple atoms: one\n",
        "named elements, which contains only the names, and one called numbers,\n",
        "which contains the atomic numbers of the elements in the tuple atoms."
      ],
      "metadata": {
        "id": "-qScBj0GQkxs"
      }
    },
    {
      "cell_type": "code",
      "source": [
        "# Given tuple\n",
        "atoms = (\"Hydrogen\", 1, \"Helium\", 2, \"Lithium\", 3, \"Boron\", 5,\n",
        "         \"Carbon\", 6, \"Oxygen\", 8)\n",
        "\n",
        "# Create the 'elements' tuple with names (every second item starting from index 0)\n",
        "elements = atoms[0::2]\n",
        "\n",
        "# Create the 'numbers' tuple with atomic numbers (every second item starting from index 1)\n",
        "numbers = atoms[1::2]\n",
        "\n",
        "print(\"Elements:\", elements)\n",
        "print(\"Numbers:\", numbers)\n"
      ],
      "metadata": {
        "colab": {
          "base_uri": "https://localhost:8080/"
        },
        "id": "tXqapoPqQogb",
        "outputId": "2226c365-0f3d-462e-8912-32dc3183a3f2"
      },
      "execution_count": 28,
      "outputs": [
        {
          "output_type": "stream",
          "name": "stdout",
          "text": [
            "Elements: ('Hydrogen', 'Helium', 'Lithium', 'Boron', 'Carbon', 'Oxygen')\n",
            "Numbers: (1, 2, 3, 5, 6, 8)\n"
          ]
        }
      ]
    },
    {
      "cell_type": "markdown",
      "source": [
        " 5. Write a Python program that reads numbers from the keyboard and appends\n",
        "them to a tuple. Stop the process when a negative number is entered and then\n",
        "print the tuple that was created."
      ],
      "metadata": {
        "id": "r8L0EvMfQp_4"
      }
    },
    {
      "cell_type": "code",
      "source": [
        "def main():\n",
        "    numbers = []  # Initialize an empty list to store numbers\n",
        "\n",
        "    while True:\n",
        "        try:\n",
        "            num = float(input(\"Enter a number (negative number to stop): \"))\n",
        "            if num < 0:\n",
        "                break  # Exit the loop if a negative number is entered\n",
        "            numbers.append(num)  # Append the number to the list\n",
        "        except ValueError:\n",
        "            print(\"Invalid input. Please enter a valid number.\")\n",
        "\n",
        "    # Convert the list to a tuple\n",
        "    numbers_tuple = tuple(numbers)\n",
        "    print(\"The tuple of numbers is:\", numbers_tuple)\n",
        "\n",
        "if __name__ == \"__main__\":\n",
        "    main()\n"
      ],
      "metadata": {
        "colab": {
          "base_uri": "https://localhost:8080/"
        },
        "id": "Rl5fEClVQtTc",
        "outputId": "dd387d08-a2b3-4125-8cc6-067536289f65"
      },
      "execution_count": 29,
      "outputs": [
        {
          "output_type": "stream",
          "name": "stdout",
          "text": [
            "Enter a number (negative number to stop): -1\n",
            "The tuple of numbers is: ()\n"
          ]
        }
      ]
    },
    {
      "cell_type": "markdown",
      "source": [
        "6. A deck of playing cards consists of 52 items: each one has one of four suits\n",
        "(clubs, diamonds, hearts, and spades) and within each suit values from 1-10,\n",
        "and the jack, queen, and king. Write a Python program that creates a deck of\n",
        "cards, shuffles them, and prints out the result."
      ],
      "metadata": {
        "id": "8upoJ5AOQwVT"
      }
    },
    {
      "cell_type": "code",
      "source": [
        "import random\n",
        "\n",
        "def create_deck():\n",
        "    # Define suits and ranks\n",
        "    suits = ['Clubs', 'Diamonds', 'Hearts', 'Spades']\n",
        "    ranks = ['2', '3', '4', '5', '6', '7', '8', '9', '10', 'Jack', 'Queen', 'King', 'Ace']\n",
        "\n",
        "    # Create the deck of cards\n",
        "    deck = [f'{rank} of {suit}' for suit in suits for rank in ranks]\n",
        "\n",
        "    return deck\n",
        "\n",
        "def shuffle_deck(deck):\n",
        "    # Shuffle the deck in place\n",
        "    random.shuffle(deck)\n",
        "\n",
        "def print_deck(deck):\n",
        "    # Print the deck of cards\n",
        "    for card in deck:\n",
        "        print(card)\n",
        "\n",
        "def main():\n",
        "    # Create and shuffle the deck\n",
        "    deck = create_deck()\n",
        "    shuffle_deck(deck)\n",
        "\n",
        "    # Print the shuffled deck\n",
        "    print_deck(deck)\n",
        "\n",
        "if __name__ == \"__main__\":\n",
        "    main()\n"
      ],
      "metadata": {
        "colab": {
          "base_uri": "https://localhost:8080/"
        },
        "id": "lWtsJ1mTQ1So",
        "outputId": "37a534b3-94fa-4c59-91ca-02023868e6e6"
      },
      "execution_count": 30,
      "outputs": [
        {
          "output_type": "stream",
          "name": "stdout",
          "text": [
            "9 of Diamonds\n",
            "Ace of Hearts\n",
            "4 of Clubs\n",
            "7 of Diamonds\n",
            "6 of Spades\n",
            "3 of Clubs\n",
            "2 of Clubs\n",
            "Queen of Spades\n",
            "9 of Hearts\n",
            "Jack of Clubs\n",
            "Jack of Diamonds\n",
            "2 of Diamonds\n",
            "5 of Spades\n",
            "2 of Hearts\n",
            "10 of Spades\n",
            "2 of Spades\n",
            "8 of Diamonds\n",
            "10 of Hearts\n",
            "10 of Clubs\n",
            "Jack of Spades\n",
            "7 of Spades\n",
            "4 of Spades\n",
            "5 of Clubs\n",
            "Ace of Diamonds\n",
            "9 of Clubs\n",
            "King of Clubs\n",
            "7 of Clubs\n",
            "Ace of Clubs\n",
            "5 of Diamonds\n",
            "King of Diamonds\n",
            "5 of Hearts\n",
            "Jack of Hearts\n",
            "3 of Hearts\n",
            "3 of Diamonds\n",
            "9 of Spades\n",
            "6 of Diamonds\n",
            "10 of Diamonds\n",
            "8 of Clubs\n",
            "6 of Clubs\n",
            "8 of Spades\n",
            "King of Spades\n",
            "Queen of Diamonds\n",
            "8 of Hearts\n",
            "Queen of Clubs\n",
            "6 of Hearts\n",
            "3 of Spades\n",
            "4 of Hearts\n",
            "Ace of Spades\n",
            "7 of Hearts\n",
            "4 of Diamonds\n",
            "Queen of Hearts\n",
            "King of Hearts\n"
          ]
        }
      ]
    },
    {
      "cell_type": "markdown",
      "source": [
        "7. Write a Python program that reads names (single words) one at a time from a\n",
        "keyboard and deletes them from a list named names where they are already\n",
        "elements of that list. If the name is not already a member of the list, then add\n",
        "it. Typing the word “quit” terminates the program."
      ],
      "metadata": {
        "id": "rRF0yJAUQ2qc"
      }
    },
    {
      "cell_type": "code",
      "source": [
        "def main():\n",
        "    names = []  # Initialize an empty list to store names\n",
        "\n",
        "    while True:\n",
        "        name = input(\"Enter a name (or 'quit' to stop): \").strip()\n",
        "\n",
        "        if name.lower() == 'quit':\n",
        "            break\n",
        "\n",
        "        if name in names:\n",
        "            names.remove(name)  # Remove the name if it exists in the list\n",
        "            print(f\"Removed '{name}' from the list.\")\n",
        "        else:\n",
        "            names.append(name)  # Add the name if it does not exist in the list\n",
        "            print(f\"Added '{name}' to the list.\")\n",
        "\n",
        "        print(\"Current list:\", names)\n",
        "\n",
        "if __name__ == \"__main__\":\n",
        "    main()\n"
      ],
      "metadata": {
        "id": "H6M93i2CQ7gu"
      },
      "execution_count": null,
      "outputs": []
    },
    {
      "cell_type": "markdown",
      "source": [
        "8. Assume that a string named temp exists and has a value. Write Python code\n",
        "that prints temp backwards."
      ],
      "metadata": {
        "id": "FafREe8aRA41"
      }
    },
    {
      "cell_type": "code",
      "source": [
        "temp = \"Your string here\"  # Replace with your actual string\n",
        "\n",
        "# Print the string backwards\n",
        "print(temp[::-1])\n"
      ],
      "metadata": {
        "id": "yn0UkxCrREmf"
      },
      "execution_count": null,
      "outputs": []
    },
    {
      "cell_type": "markdown",
      "source": [
        "9. A palindrome is a phrase (a string) that reads the same forwards and\n",
        "backwards. The name Hannah is a palindrome; so is Ogopogo, the name of a\n",
        "monster that lives in lake Okanogan. Write a Python program that determines\n",
        "whether a given string is a palindrome."
      ],
      "metadata": {
        "id": "NxKaBteQRKk7"
      }
    },
    {
      "cell_type": "code",
      "source": [
        "def is_palindrome(s):\n",
        "    # Remove spaces and convert to lowercase for case-insensitive comparison\n",
        "    cleaned_s = ''.join(s.split()).lower()\n",
        "\n",
        "    # Check if the cleaned string reads the same forwards and backwards\n",
        "    return cleaned_s == cleaned_s[::-1]\n",
        "\n",
        "def main():\n",
        "    # Read input from the user\n",
        "    input_string = input(\"Enter a string to check if it is a palindrome: \")\n",
        "\n",
        "    if is_palindrome(input_string):\n",
        "        print(f'\"{input_string}\" is a palindrome.')\n",
        "    else:\n",
        "        print(f'\"{input_string}\" is not a palindrome.')\n",
        "\n",
        "if __name__ == \"__main__\":\n",
        "    main()\n"
      ],
      "metadata": {
        "id": "gE6qz0m7RM5L"
      },
      "execution_count": null,
      "outputs": []
    },
    {
      "cell_type": "markdown",
      "source": [
        "10. Most examples of palindromes contain spaces and punctuation, and these\n",
        "characters are ignored when deciding whether the phrase is palindromic.\n",
        "So is case. Thus, the phrase “I prefer pi” is a palindrome. With these\n",
        "considerations in mind, write a Python program that determines whether a\n",
        "string is a palindrome."
      ],
      "metadata": {
        "id": "qjkKNZiWRNwd"
      }
    },
    {
      "cell_type": "code",
      "source": [
        "import string\n",
        "\n",
        "def preprocess_string(s):\n",
        "    # Convert the string to lowercase and remove punctuation\n",
        "    s = s.lower()  # Convert to lowercase\n",
        "    s = ''.join(c for c in s if c.isalnum())  # Keep only alphanumeric characters\n",
        "    return s\n",
        "\n",
        "def is_palindrome(s):\n",
        "    cleaned_s = preprocess_string(s)  # Preprocess the string\n",
        "    return cleaned_s == cleaned_s[::-1]  # Check if it reads the same forwards and backwards\n",
        "\n",
        "def main():\n",
        "    # Read input from the user\n",
        "    input_string = input(\"Enter a phrase to check if it is a palindrome: \")\n",
        "\n",
        "    if is_palindrome(input_string):\n",
        "        print(f'\"{input_string}\" is a palindrome.')\n",
        "    else:\n",
        "        print(f'\"{input_string}\" is not a palindrome.')\n",
        "\n",
        "if __name__ == \"__main__\":\n",
        "    main()\n"
      ],
      "metadata": {
        "id": "M3XU08EoRP1F"
      },
      "execution_count": null,
      "outputs": []
    }
  ]
}