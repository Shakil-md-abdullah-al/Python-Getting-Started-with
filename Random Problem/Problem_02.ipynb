{
  "nbformat": 4,
  "nbformat_minor": 0,
  "metadata": {
    "colab": {
      "provenance": []
    },
    "kernelspec": {
      "name": "python3",
      "display_name": "Python 3"
    },
    "language_info": {
      "name": "python"
    }
  },
  "cells": [
    {
      "cell_type": "markdown",
      "source": [
        "# Problem: Generators and Tuples:\n",
        "Write a Python\n",
        "generator function that generates Fibonacci sequence. The function should return a tuple with the index and the Fibonacci number for each call. Use the generator to print the first 10 Fibonacci numbers.\n"
      ],
      "metadata": {
        "id": "i3-EVEh-sdY8"
      }
    },
    {
      "cell_type": "code",
      "source": [
        "def fibonacci_generator():\n",
        "    a, b, index = 0, 1, 0\n",
        "    while True:\n",
        "        yield (index, a)\n",
        "        a, b = b, a + b\n",
        "        index += 1\n",
        "# Generate and print the first 10 Fibonacci numbers with their indices\n",
        "fib_gen = fibonacci_generator()\n",
        "for _ in range(10):\n",
        "    print(next(fib_gen))\n"
      ],
      "metadata": {
        "colab": {
          "base_uri": "https://localhost:8080/"
        },
        "id": "_TOtJW1Isw9h",
        "outputId": "34867eb2-a578-43a4-b2ef-73219d51bf1b"
      },
      "execution_count": 3,
      "outputs": [
        {
          "output_type": "stream",
          "name": "stdout",
          "text": [
            "(0, 0)\n",
            "(1, 1)\n",
            "(2, 1)\n",
            "(3, 2)\n",
            "(4, 3)\n",
            "(5, 5)\n",
            "(6, 8)\n",
            "(7, 13)\n",
            "(8, 21)\n",
            "(9, 34)\n"
          ]
        }
      ]
    }
  ]
}