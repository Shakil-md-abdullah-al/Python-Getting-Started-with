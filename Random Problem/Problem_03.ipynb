{
  "nbformat": 4,
  "nbformat_minor": 0,
  "metadata": {
    "colab": {
      "provenance": []
    },
    "kernelspec": {
      "name": "python3",
      "display_name": "Python 3"
    },
    "language_info": {
      "name": "python"
    }
  },
  "cells": [
    {
      "cell_type": "markdown",
      "source": [
        "# Problem: Maps and Reduces:\n",
        "Write a Python program that uses the map function to calculate the cube of each number in a list. Then, use the reduce function from the functools module to find the sum of the cubes."
      ],
      "metadata": {
        "id": "JmtyoCMuuUtU"
      }
    },
    {
      "cell_type": "code",
      "source": [
        "from functools import reduce\n",
        "\n",
        "# List of numbers\n",
        "numbers = [1, 2, 3, 4, 5]\n",
        "\n",
        "# Map to calculate cubes of each number\n",
        "cubes = list(map(lambda x: x**3, numbers))\n",
        "\n",
        "# Reduce to calculate the sum of cubes\n",
        "sum_of_cubes = reduce(lambda x, y: x + y, cubes)\n",
        "\n",
        "print(\"Cubes of numbers:\", cubes)\n",
        "print(\"Sum of cubes:\", sum_of_cubes)"
      ],
      "metadata": {
        "colab": {
          "base_uri": "https://localhost:8080/"
        },
        "id": "EgS6D1_6uena",
        "outputId": "a9e850eb-f3b6-4040-fa3d-c8e2d420215a"
      },
      "execution_count": 1,
      "outputs": [
        {
          "output_type": "stream",
          "name": "stdout",
          "text": [
            "Cubes of numbers: [1, 8, 27, 64, 125]\n",
            "Sum of cubes: 225\n"
          ]
        }
      ]
    }
  ]
}